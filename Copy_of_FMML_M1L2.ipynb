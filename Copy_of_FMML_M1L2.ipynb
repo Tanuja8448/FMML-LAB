{
  "cells": [
    {
      "cell_type": "markdown",
      "metadata": {
        "id": "view-in-github",
        "colab_type": "text"
      },
      "source": [
        "<a href=\"https://colab.research.google.com/github/Tanuja8448/FMML-LAB/blob/main/Copy_of_FMML_M1L2.ipynb\" target=\"_parent\"><img src=\"https://colab.research.google.com/assets/colab-badge.svg\" alt=\"Open In Colab\"/></a>"
      ]
    },
    {
      "cell_type": "markdown",
      "metadata": {
        "id": "3Eu9VZbF01eq"
      },
      "source": [
        "# Machine Learning terms and metrics\n",
        "\n",
        "FMML Module 1, Lab 2\n",
        "\n",
        "In this lab, we will show a part of the ML pipeline by using the California Housing dataset. There are 20640 samples, each with 8 attributes like income of the block, age of the houses per district etc. The task is to predict the cost of the houses per district. We will use the scikit-learn library to load the data and perform some basic data preprocessing and model training. We will also show how to evaluate the model using some common metrics, split the data into training and testing sets, and use cross-validation to get a better estimate of the model's performance."
      ]
    },
    {
      "cell_type": "code",
      "execution_count": null,
      "metadata": {
        "id": "8qBvyEem0vLi"
      },
      "outputs": [],
      "source": [
        "import numpy as np\n",
        "from sklearn import datasets\n",
        "import matplotlib.pyplot as plt\n",
        "\n",
        "rng = np.random.default_rng(seed=42)"
      ]
    },
    {
      "cell_type": "code",
      "execution_count": null,
      "metadata": {
        "colab": {
          "base_uri": "https://localhost:8080/"
        },
        "id": "8LpqjN991GGJ",
        "outputId": "6f379d6f-dc2c-427a-93f7-587d7b909a5a"
      },
      "outputs": [
        {
          "output_type": "stream",
          "name": "stdout",
          "text": [
            ".. _california_housing_dataset:\n",
            "\n",
            "California Housing dataset\n",
            "--------------------------\n",
            "\n",
            "**Data Set Characteristics:**\n",
            "\n",
            "    :Number of Instances: 20640\n",
            "\n",
            "    :Number of Attributes: 8 numeric, predictive attributes and the target\n",
            "\n",
            "    :Attribute Information:\n",
            "        - MedInc        median income in block group\n",
            "        - HouseAge      median house age in block group\n",
            "        - AveRooms      average number of rooms per household\n",
            "        - AveBedrms     average number of bedrooms per household\n",
            "        - Population    block group population\n",
            "        - AveOccup      average number of household members\n",
            "        - Latitude      block group latitude\n",
            "        - Longitude     block group longitude\n",
            "\n",
            "    :Missing Attribute Values: None\n",
            "\n",
            "This dataset was obtained from the StatLib repository.\n",
            "https://www.dcc.fc.up.pt/~ltorgo/Regression/cal_housing.html\n",
            "\n",
            "The target variable is the median house value for California districts,\n",
            "expressed in hundreds of thousands of dollars ($100,000).\n",
            "\n",
            "This dataset was derived from the 1990 U.S. census, using one row per census\n",
            "block group. A block group is the smallest geographical unit for which the U.S.\n",
            "Census Bureau publishes sample data (a block group typically has a population\n",
            "of 600 to 3,000 people).\n",
            "\n",
            "A household is a group of people residing within a home. Since the average\n",
            "number of rooms and bedrooms in this dataset are provided per household, these\n",
            "columns may take surprisingly large values for block groups with few households\n",
            "and many empty houses, such as vacation resorts.\n",
            "\n",
            "It can be downloaded/loaded using the\n",
            ":func:`sklearn.datasets.fetch_california_housing` function.\n",
            "\n",
            ".. topic:: References\n",
            "\n",
            "    - Pace, R. Kelley and Ronald Barry, Sparse Spatial Autoregressions,\n",
            "      Statistics and Probability Letters, 33 (1997) 291-297\n",
            "\n"
          ]
        }
      ],
      "source": [
        "dataset = datasets.fetch_california_housing()\n",
        "# Dataset description\n",
        "print(dataset.DESCR)"
      ]
    },
    {
      "cell_type": "markdown",
      "metadata": {
        "id": "PCe1VNftevgE"
      },
      "source": [
        "Given below are the list of target values. These correspond to the house value derived considering all the 8 input features and are continuous values. We should use regression models to predict these values but we will start with a simple classification model for the sake of simplicity. We need to just round off the values to the nearest integer and use a classification model to predict the house value."
      ]
    },
    {
      "cell_type": "code",
      "execution_count": null,
      "metadata": {
        "colab": {
          "base_uri": "https://localhost:8080/"
        },
        "id": "F8K0ggBOevgE",
        "outputId": "f71dd070-d8a0-41e1-b595-107fec9f47e8"
      },
      "outputs": [
        {
          "output_type": "stream",
          "name": "stdout",
          "text": [
            "Orignal target values: [4.526 3.585 3.521 ... 0.923 0.847 0.894]\n",
            "Target values after conversion: [4 3 3 ... 0 0 0]\n",
            "Input variables shape: (20640, 8)\n",
            "Output variables shape: (20640,)\n"
          ]
        }
      ],
      "source": [
        "print(\"Orignal target values:\", dataset.target)\n",
        "\n",
        "dataset.target = dataset.target.astype(int)\n",
        "\n",
        "print(\"Target values after conversion:\", dataset.target)\n",
        "print(\"Input variables shape:\", dataset.data.shape)\n",
        "print(\"Output variables shape:\", dataset.target.shape)"
      ]
    },
    {
      "cell_type": "markdown",
      "metadata": {
        "id": "iNx4174W5xRg"
      },
      "source": [
        "The simplest model to use for classification is the K-Nearest Neighbors model. We will use this model to predict the house value with a K value of 1. We will also use the accuracy metric to evaluate the model."
      ]
    },
    {
      "cell_type": "code",
      "execution_count": null,
      "metadata": {
        "id": "07zpydQj1hIQ"
      },
      "outputs": [],
      "source": [
        "def NN1(traindata, trainlabel, query):\n",
        "    \"\"\"\n",
        "    This function takes in the training data, training labels and a query point\n",
        "    and returns the predicted label for the query point using the nearest neighbour algorithm\n",
        "\n",
        "    traindata: numpy array of shape (n,d) where n is the number of samples and d is the number of features\n",
        "    trainlabel: numpy array of shape (n,) where n is the number of samples\n",
        "    query: numpy array of shape (d,) where d is the number of features\n",
        "\n",
        "    returns: the predicted label for the query point which is the label of the training data which is closest to the query point\n",
        "    \"\"\"\n",
        "    diff = (\n",
        "        traindata - query\n",
        "    )  # find the difference between features. Numpy automatically takes care of the size here\n",
        "    sq = diff * diff  # square the differences\n",
        "    dist = sq.sum(1)  # add up the squares\n",
        "    label = trainlabel[np.argmin(dist)]\n",
        "    return label\n",
        "\n",
        "\n",
        "def NN(traindata, trainlabel, testdata):\n",
        "    \"\"\"\n",
        "    This function takes in the training data, training labels and test data\n",
        "    and returns the predicted labels for the test data using the nearest neighbour algorithm\n",
        "\n",
        "    traindata: numpy array of shape (n,d) where n is the number of samples and d is the number of features\n",
        "    trainlabel: numpy array of shape (n,) where n is the number of samples\n",
        "    testdata: numpy array of shape (m,d) where m is the number of test samples and d is the number of features\n",
        "\n",
        "    returns: the predicted labels for the test data which is the label of the training data which is closest to each test point\n",
        "    \"\"\"\n",
        "    predlabel = np.array([NN1(traindata, trainlabel, i) for i in testdata])\n",
        "    return predlabel"
      ]
    },
    {
      "cell_type": "markdown",
      "metadata": {
        "id": "03JktkfIGaje"
      },
      "source": [
        "We will also define a 'random classifier', which randomly allots labels to each sample"
      ]
    },
    {
      "cell_type": "code",
      "execution_count": null,
      "metadata": {
        "id": "fogWAtjyGhAH"
      },
      "outputs": [],
      "source": [
        "def RandomClassifier(traindata, trainlabel, testdata):\n",
        "    \"\"\"\n",
        "    This function takes in the training data, training labels and test data\n",
        "    and returns the predicted labels for the test data using the random classifier algorithm\n",
        "\n",
        "    In reality, we don't need these arguments but we are passing them to keep the function signature consistent with other classifiers\n",
        "\n",
        "    traindata: numpy array of shape (n,d) where n is the number of samples and d is the number of features\n",
        "    trainlabel: numpy array of shape (n,) where n is the number of samples\n",
        "    testdata: numpy array of shape (m,d) where m is the number of test samples and d is the number of features\n",
        "\n",
        "    returns: the predicted labels for the test data which is a random label from the training data\n",
        "    \"\"\"\n",
        "\n",
        "    classes = np.unique(trainlabel)\n",
        "    rints = rng.integers(low=0, high=len(classes), size=len(testdata))\n",
        "    predlabel = classes[rints]\n",
        "    return predlabel"
      ]
    },
    {
      "cell_type": "markdown",
      "metadata": {
        "id": "1Hjf1KHs7fU5"
      },
      "source": [
        "We need a metric to evaluate the performance of the model. Let us define a metric 'Accuracy' to see how good our learning algorithm is. Accuracy is the ratio of the number of correctly classified samples to the total number of samples. The higher the accuracy, the better the algorithm. We will use the accuracy metric to evaluate and compate the performance of the K-Nearest Neighbors model and the random classifier."
      ]
    },
    {
      "cell_type": "code",
      "execution_count": null,
      "metadata": {
        "id": "ouuCqWU07bz-"
      },
      "outputs": [],
      "source": [
        "def Accuracy(gtlabel, predlabel):\n",
        "    \"\"\"\n",
        "    This function takes in the ground-truth labels and predicted labels\n",
        "    and returns the accuracy of the classifier\n",
        "\n",
        "    gtlabel: numpy array of shape (n,) where n is the number of samples\n",
        "    predlabel: numpy array of shape (n,) where n is the number of samples\n",
        "\n",
        "    returns: the accuracy of the classifier which is the number of correct predictions divided by the total number of predictions\n",
        "    \"\"\"\n",
        "    assert len(gtlabel) == len(\n",
        "        predlabel\n",
        "    ), \"Length of the ground-truth labels and predicted labels should be the same\"\n",
        "    correct = (\n",
        "        gtlabel == predlabel\n",
        "    ).sum()  # count the number of times the groundtruth label is equal to the predicted label.\n",
        "    return correct / len(gtlabel)"
      ]
    },
    {
      "cell_type": "markdown",
      "metadata": {
        "id": "4vJFwBFa9Klw"
      },
      "source": [
        "Let us make a function to split the dataset with the desired probability. We will use this function to split the dataset into training and testing sets. We will use the training set to train the model and the testing set to evaluate the model."
      ]
    },
    {
      "cell_type": "code",
      "execution_count": null,
      "metadata": {
        "id": "Ko0VzpSM2Tdi"
      },
      "outputs": [],
      "source": [
        "def split(data, label, percent):\n",
        "    # generate a random number for each sample\n",
        "    rnd = rng.random(len(label))\n",
        "    split1 = rnd < percent\n",
        "    split2 = rnd >= percent\n",
        "\n",
        "    split1data = data[split1, :]\n",
        "    split1label = label[split1]\n",
        "    split2data = data[split2, :]\n",
        "    split2label = label[split2]\n",
        "    return split1data, split1label, split2data, split2label"
      ]
    },
    {
      "cell_type": "markdown",
      "metadata": {
        "id": "AcK3LEAJ_LGC"
      },
      "source": [
        "We will reserve 20% of our dataset as the test set. We will not change this portion throughout our experiments"
      ]
    },
    {
      "cell_type": "code",
      "execution_count": null,
      "metadata": {
        "colab": {
          "base_uri": "https://localhost:8080/"
        },
        "id": "bBZkHBLJ1iU-",
        "outputId": "73ffc0bd-354d-4051-f17a-c6adebdd58fe"
      },
      "outputs": [
        {
          "output_type": "stream",
          "name": "stdout",
          "text": [
            "Number of test samples: 4144\n",
            "Number of train samples: 16496\n",
            "Percent of test data: 20.07751937984496 %\n"
          ]
        }
      ],
      "source": [
        "testdata, testlabel, alltraindata, alltrainlabel = split(\n",
        "    dataset.data, dataset.target, 20 / 100\n",
        ")\n",
        "print(\"Number of test samples:\", len(testlabel))\n",
        "print(\"Number of train samples:\", len(alltrainlabel))\n",
        "print(\"Percent of test data:\", len(testlabel) * 100 / len(dataset.target), \"%\")"
      ]
    },
    {
      "cell_type": "markdown",
      "metadata": {
        "id": "a6Ss0Z6IAGNV"
      },
      "source": [
        "## Experiments with splits\n",
        "\n",
        "Let us reserve some of our train data as a validation set"
      ]
    },
    {
      "cell_type": "code",
      "execution_count": null,
      "metadata": {
        "id": "WFew2iry_7W7"
      },
      "outputs": [],
      "source": [
        "traindata, trainlabel, valdata, vallabel = split(\n",
        "    alltraindata, alltrainlabel, 75 / 100)"
      ]
    },
    {
      "cell_type": "markdown",
      "metadata": {
        "id": "60hiu4clFN1i"
      },
      "source": [
        "What is the accuracy of our classifiers on the train dataset?"
      ]
    },
    {
      "cell_type": "code",
      "execution_count": null,
      "metadata": {
        "colab": {
          "base_uri": "https://localhost:8080/"
        },
        "id": "DBlZDTHUFTZx",
        "outputId": "2d0ed616-7ece-4d8f-8f8d-cb1eb48f7385"
      },
      "outputs": [
        {
          "output_type": "stream",
          "name": "stdout",
          "text": [
            "Training accuracy using nearest neighbour algorithm: 100.0 %\n",
            "Training accuracy using random classifier:  16.4375808538163 %\n"
          ]
        }
      ],
      "source": [
        "trainpred = NN(traindata, trainlabel, traindata)\n",
        "trainAccuracy = Accuracy(trainlabel, trainpred)\n",
        "print(\"Training accuracy using nearest neighbour algorithm:\", trainAccuracy*100, \"%\")\n",
        "\n",
        "trainpred = RandomClassifier(traindata, trainlabel, traindata)\n",
        "trainAccuracy = Accuracy(trainlabel, trainpred)\n",
        "print(\"Training accuracy using random classifier: \", trainAccuracy*100, \"%\")"
      ]
    },
    {
      "cell_type": "markdown",
      "metadata": {
        "id": "7h08-9gJDtSy"
      },
      "source": [
        "For nearest neighbour, the train accuracy is always 1. The accuracy of the random classifier is close to 1/(number of classes) which is 0.1666 in our case. This is because the random classifier randomly assigns a label to each sample and the probability of assigning the correct label is 1/(number of classes). Let us predict the labels for our validation set and get the accuracy. This accuracy is a good estimate of the accuracy of our model on unseen data."
      ]
    },
    {
      "cell_type": "code",
      "execution_count": null,
      "metadata": {
        "colab": {
          "base_uri": "https://localhost:8080/"
        },
        "id": "4h7bXoW_2H3v",
        "outputId": "ab09a4be-1b0e-4db2-ef67-a4b5f41c48fe"
      },
      "outputs": [
        {
          "output_type": "stream",
          "name": "stdout",
          "text": [
            "Validation accuracy using nearest neighbour algorithm: 34.10852713178294 %\n",
            "Validation accuracy using random classifier: 16.884689922480618 %\n"
          ]
        }
      ],
      "source": [
        "valpred = NN(traindata, trainlabel, valdata)\n",
        "valAccuracy = Accuracy(vallabel, valpred)\n",
        "print(\"Validation accuracy using nearest neighbour algorithm:\", valAccuracy*100, \"%\")\n",
        "\n",
        "\n",
        "valpred = RandomClassifier(traindata, trainlabel, valdata)\n",
        "valAccuracy = Accuracy(vallabel, valpred)\n",
        "print(\"Validation accuracy using random classifier:\", valAccuracy*100, \"%\")"
      ]
    },
    {
      "cell_type": "markdown",
      "metadata": {
        "id": "py9bLguFEjfg"
      },
      "source": [
        "Validation accuracy of nearest neighbour is considerably less than its train accuracy while the validation accuracy of random classifier is the same. However, the validation accuracy of nearest neighbour is twice that of the random classifier. Now let us try another random split and check the validation accuracy. We will see that the validation accuracy changes with the split. This is because the validation set is small and the accuracy is highly dependent on the samples in the validation set. We can get a better estimate of the accuracy by using cross-validation."
      ]
    },
    {
      "cell_type": "code",
      "execution_count": null,
      "metadata": {
        "colab": {
          "base_uri": "https://localhost:8080/"
        },
        "id": "ujm3cyYzEntE",
        "outputId": "8e5506e9-474c-4fd6-d7a6-b14aa1b8b8d1"
      },
      "outputs": [
        {
          "output_type": "stream",
          "name": "stdout",
          "text": [
            "Validation accuracy using nearest neighbour algorithm: 34.048257372654156 %\n"
          ]
        }
      ],
      "source": [
        "traindata, trainlabel, valdata, vallabel = split(\n",
        "    alltraindata, alltrainlabel, 75 / 100)\n",
        "valpred = NN(traindata, trainlabel, valdata)\n",
        "valAccuracy = Accuracy(vallabel, valpred)\n",
        "print(\"Validation accuracy using nearest neighbour algorithm:\", valAccuracy*100, \"%\")"
      ]
    },
    {
      "cell_type": "markdown",
      "metadata": {
        "id": "oSOx7U83EKie"
      },
      "source": [
        "You can run the above cell multiple times to try with different random splits.\n",
        "We notice that the accuracy is different for each run, but close together.\n",
        "\n",
        "Now let us compare it with the accuracy we get on the test dataset."
      ]
    },
    {
      "cell_type": "code",
      "execution_count": null,
      "metadata": {
        "colab": {
          "base_uri": "https://localhost:8080/"
        },
        "id": "PNEZ5ToYBEDW",
        "outputId": "2487fee9-0efc-4ce9-8b76-c8fd90b0c94a"
      },
      "outputs": [
        {
          "output_type": "stream",
          "name": "stdout",
          "text": [
            "Test accuracy: 34.91795366795367 %\n"
          ]
        }
      ],
      "source": [
        "testpred = NN(alltraindata, alltrainlabel, testdata)\n",
        "testAccuracy = Accuracy(testlabel, testpred)\n",
        "\n",
        "print(\"Test accuracy:\", testAccuracy*100, \"%\")"
      ]
    },
    {
      "cell_type": "markdown",
      "metadata": {
        "id": "w3dGD531K3gH"
      },
      "source": [
        "### Try it out for yourself and answer:\n",
        "1. How is the accuracy of the validation set affected if we increase the percentage of validation set? What happens when we reduce it?\n",
        "2. How does the size of the train and validation set affect how well we can predict the accuracy on the test set using the validation set?\n",
        "3. What do you think is a good percentage to reserve for the validation set so that thest two factors are balanced?\n",
        "\n",
        "Answer for both nearest neighbour and random classifier. You can note down the values for your experiments and plot a graph using  <a href=https://matplotlib.org/stable/gallery/lines_bars_and_markers/step_demo.html#sphx-glr-gallery-lines-bars-and-markers-step-demo-py>plt.plot<href>. Check also for extreme values for splits, like 99.9% or 0.1%"
      ]
    },
    {
      "cell_type": "markdown",
      "source": [],
      "metadata": {
        "id": "M1sl5doGlz3g"
      }
    },
    {
      "cell_type": "markdown",
      "source": [
        "Answer 1:\n",
        "         When you increase the percentage of the validation set:\n",
        "\n",
        "1. *Accuracy may decrease*: With a larger validation set, the model has less training data, which can lead to lower accuracy.\n",
        "2. *Overfitting detection improves*: A larger validation set provides a more accurate estimate of the model's performance, helping detect overfitting.\n",
        "3. *Hyperparameter tuning improves*: A larger validation set allows for more reliable hyperparameter tuning, as the model's performance is evaluated on a larger, more diverse set.\n",
        "\n",
        "When you reduce the percentage of the validation set:\n",
        "\n",
        "1. *Accuracy may increase*: With a smaller validation set, the model has more training data, which can lead to higher accuracy.\n",
        "2. *Overfitting detection worsens*: A smaller validation set may not accurately represent the model's performance, making it harder to detect overfitting.\n",
        "3. *Hyperparameter tuning worsens*: A smaller validation set provides a less reliable estimate of the model's performance, making hyperparameter tuning more challenging.\n",
        "\n",
        "In general, a validation set size of 15% to 30% of the total dataset is a good starting point. However, the optimal size depends on the specific problem, dataset, and model.\n",
        "\n",
        "Here's a rough outline of the effects of validation set size on accuracy:\n",
        "\n",
        "- *Small validation set (5-10%)*: High accuracy, but potentially overfitting and poor hyperparameter tuning.\n",
        "- *Medium validation set (15-30%)*: Balanced accuracy, overfitting detection, and hyperparameter tuning.\n",
        "- *Large validation set (40-50%)*: Lower accuracy, but improved overfitting detection and hyperparameter tuning.\n",
        "\n",
        "Keep in mind that these are general guidelines, and the optimal validation set size depends on your specific use case.\n",
        "\n",
        "Answer 2:\n",
        "         The size of the train and validation sets significantly impacts the accuracy prediction on the test set using the validation set. Here's how:\n",
        "\n",
        "*Train set size:*\n",
        "\n",
        "- *Small train set*: The model may not learn enough patterns, leading to poor accuracy on both validation and test sets.\n",
        "- *Large train set*: The model can learn more patterns, but may overfit, leading to poor accuracy on the test set despite good validation set accuracy.\n",
        "\n",
        "*Validation set size:*\n",
        "\n",
        "- *Small validation set*: May not accurately represent the test set, leading to:\n",
        "    - Overestimation of accuracy (if validation set is too easy)\n",
        "    - Underestimation of accuracy (if validation set is too hard)\n",
        "- *Large validation set*: More accurately represents the test set, providing a better estimate of accuracy.\n",
        "\n",
        "*Ideal scenario:*\n",
        "\n",
        "- *Large train set* (enough data to learn patterns)\n",
        "- *Medium to large validation set* (accurately represents test set, but not too large to waste data)\n",
        "\n",
        "By having a large enough train set and a representative validation set, you can:\n",
        "\n",
        "1. Train a model that generalizes well\n",
        "2. Accurately estimate test set accuracy using the validation set\n",
        "\n",
        "This enables you to:\n",
        "\n",
        "1. Detect overfitting\n",
        "2. Perform reliable hyperparameter tuning\n",
        "3. Make informed decisions about model selection and deployment\n",
        "\n",
        "Remember, the key is to strike a balance between train and validation set sizes to ensure accurate accuracy prediction on the test set.\n",
        "\n",
        "Answer3:\n",
        "        A good percentage to reserve for the validation set depends on the specific problem, dataset size, and model complexity. However, here are some general guidelines:\n",
        "\n",
        "- For small datasets (<10,000 samples), reserve 20-30% for validation\n",
        "- For medium datasets (10,000-100,000 samples), reserve 15-25% for validation\n",
        "- For large datasets (>100,000 samples), reserve 10-20% for validation\n",
        "\n",
        "These percentages aim to balance the trade-off between:\n",
        "\n",
        "1. Having enough training data to learn patterns\n",
        "2. Having enough validation data to accurately estimate test set accuracy\n",
        "\n",
        "Reserving too little data for validation (e.g., 5%) may lead to overestimation of accuracy, while reserving too much (e.g., 50%) may waste valuable training data.\n",
        "\n",
        "Remember, these are rough guidelines. You may need to adjust the validation set size based on your specific use case and model performance.\n",
        "\n",
        "Also, consider using techniques like:\n",
        "\n",
        "- Cross-validation (e.g., k-fold, stratified k-fold)\n",
        "- Bootstrap sampling\n",
        "- Walk-forward optimization\n",
        "\n",
        "These methods can help you make the most of your data and improve model evaluation."
      ],
      "metadata": {
        "id": "GbgKMWd7k1hC"
      }
    },
    {
      "cell_type": "markdown",
      "source": [],
      "metadata": {
        "id": "zQ_AaeNrkZS6"
      }
    },
    {
      "cell_type": "markdown",
      "metadata": {
        "id": "M9zvdYY6evgI"
      },
      "source": [
        "> Exercise: Try to implement a 3 nearest neighbour classifier and compare the accuracy of the 1 nearest neighbour classifier and the 3 nearest neighbour classifier on the test dataset. You can use the KNeighborsClassifier class from the scikit-learn library to implement the K-Nearest Neighbors model. You can set the number of neighbors using the n_neighbors parameter. You can also use the accuracy_score function from the scikit-learn library to calculate the accuracy of the model."
      ]
    },
    {
      "cell_type": "markdown",
      "metadata": {
        "id": "PnYvkAZLQY7h"
      },
      "source": [
        "## Multiple Splits\n",
        "\n",
        "One way to get more accurate estimates for the test accuracy is by using <b>cross-validation</b>. Here, we will try a simple version, where we do multiple train/val splits and take the average of validation accuracies as the test accuracy estimation. Here is a function for doing this. Note that this function will take a long time to execute. You can reduce the number of splits to make it faster."
      ]
    },
    {
      "cell_type": "code",
      "execution_count": null,
      "metadata": {
        "id": "E4nGCUQXBTzo"
      },
      "outputs": [],
      "source": [
        "def AverageAccuracy(alldata, alllabel, splitpercent, iterations, classifier=NN):\n",
        "    \"\"\"\n",
        "    This function takes in the data, labels, split percentage, number of iterations and classifier function\n",
        "    and returns the average accuracy of the classifier\n",
        "\n",
        "    alldata: numpy array of shape (n,d) where n is the number of samples and d is the number of features\n",
        "    alllabel: numpy array of shape (n,) where n is the number of samples\n",
        "    splitpercent: float which is the percentage of data to be used for training\n",
        "    iterations: int which is the number of iterations to run the classifier\n",
        "    classifier: function which is the classifier function to be used\n",
        "\n",
        "    returns: the average accuracy of the classifier\n",
        "    \"\"\"\n",
        "    accuracy = 0\n",
        "    for ii in range(iterations):\n",
        "        traindata, trainlabel, valdata, vallabel = split(\n",
        "            alldata, alllabel, splitpercent\n",
        "        )\n",
        "        valpred = classifier(traindata, trainlabel, valdata)\n",
        "        accuracy += Accuracy(vallabel, valpred)\n",
        "    return accuracy / iterations  # average of all accuracies"
      ]
    },
    {
      "cell_type": "code",
      "execution_count": null,
      "metadata": {
        "colab": {
          "base_uri": "https://localhost:8080/"
        },
        "id": "H3qtNar7Bbik",
        "outputId": "5a5a53ec-beea-4f7f-cefc-79f74cceb1bd"
      },
      "outputs": [
        {
          "output_type": "stream",
          "name": "stdout",
          "text": [
            "Average validation accuracy: 33.58463539517022 %\n",
            "Test accuracy: 34.91795366795367 %\n"
          ]
        }
      ],
      "source": [
        "avg_acc = AverageAccuracy(alltraindata, alltrainlabel, 75 / 100, 10, classifier=NN)\n",
        "print(\"Average validation accuracy:\", avg_acc*100, \"%\")\n",
        "testpred = NN(alltraindata, alltrainlabel, testdata)\n",
        "\n",
        "print(\"Test accuracy:\", Accuracy(testlabel, testpred)*100, \"%\")"
      ]
    },
    {
      "cell_type": "markdown",
      "metadata": {
        "id": "33GIn4x5VH-d"
      },
      "source": [
        "This is a very simple way of doing cross-validation. There are many well-known algorithms for cross-validation, like k-fold cross-validation, leave-one-out etc. This will be covered in detail in a later module. For more information about cross-validation, check <a href=https://en.wikipedia.org/wiki/Cross-validation_(statistics)>Cross-validatioin (Wikipedia)</a>\n",
        "\n",
        "### Questions\n",
        "1. Does averaging the validation accuracy across multiple splits give more consistent results?\n",
        "2. Does it give more accurate estimate of test accuracy?\n",
        "3. What is the effect of the number of iterations on the estimate? Do we get a better estimate with higher iterations?\n",
        "4. Consider the results you got for the previous questions. Can we deal with a very small train dataset or validation dataset by increasing the iterations?\n"
      ]
    },
    {
      "cell_type": "markdown",
      "source": [
        "Answer 1:\n",
        "        Yes, averaging the validation accuracy across multiple splits can provide more consistent results. This technique is known as:\n",
        "\n",
        "1. _Cross-validation_: Divide the data into k folds, train on k-1 folds, and validate on the remaining fold. Repeat this process k times, and average the validation accuracy.\n",
        "2. _Bootstrap sampling_: Sample the data with replacement, train on the sampled data, and validate on the out-of-bag data. Repeat this process multiple times, and average the validation accuracy.\n",
        "\n",
        "Averaging across multiple splits helps:\n",
        "\n",
        "1. _Reduce variance_: Reduces the impact of a single split's variability on the validation accuracy.\n",
        "2. _Improve robustness_: Provides a more robust estimate of the model's performance, less sensitive to individual split characteristics.\n",
        "3. _Increase confidence_: Gives you more confidence in the model's performance, as the averaged accuracy is less prone to fluctuations.\n",
        "\n",
        "Common cross-validation techniques include:\n",
        "\n",
        "1. _k-fold cross-validation_ (e.g., 5-fold, 10-fold)\n",
        "2. _Stratified k-fold cross-validation_ (maintains class balance)\n",
        "3. _Leave-one-out cross-validation_ (extreme case, where k=n)\n",
        "\n",
        "Bootstrap sampling can also be used for:\n",
        "\n",
        "1. _Hyperparameter tuning_\n",
        "2. _Model selection_\n",
        "3. _Uncertainty estimation_\n",
        "\n",
        "By averaging across multiple splits, you can obtain a more reliable estimate of your model's performance, which can lead to better decision-making and more effective model deployment.\n",
        "\n",
        "Answer 2:\n",
        "         [25/8, 1:44 pm] Meta AI: Yes, averaging the validation accuracy across multiple splits can provide a more accurate estimate of the test accuracy. This is because:\n",
        "\n",
        "1. *Reduced overfitting*: By averaging across multiple splits, you reduce the impact of overfitting to a single split, which can lead to overly optimistic estimates of test accuracy.\n",
        "2. *Better representation*: Averaging across multiple splits provides a more comprehensive representation of the model's performance on unseen data, as each split is an independent evaluation.\n",
        "3. *Improved generalization*: By evaluating the model on multiple splits, you can assess its ability to generalize to new, unseen data, which is a key aspect of test accuracy.\n",
        "\n",
        "Studies have shown that cross-validation and bootstrap sampling can provide a more accurate estimate of test accuracy compared to a single split. This is because:\n",
        "\n",
        "1. *Reduced variance*: Averaging across multiple splits reduces the variance of the estimate, providing a more stable and reliable estimate of test accuracy.\n",
        "2. *Increased precision*: By averaging across multiple splits, you can increase the precision of the estimate, providing a more accurate estimate of test accuracy.\n",
        "\n",
        "However, it's important to note that:\n",
        "\n",
        "1. *No guarantee*: Averaging across multiple splits does not guarantee a perfect estimate of test accuracy.\n",
        "2. *Dependence on data*: The quality of the estimate still depends on the quality of\n",
        "[25/8, 1:44 pm] Meta AI: Yes, averaging the validation accuracy across multiple splits can provide a more accurate estimate of the test accuracy. This is because:\n",
        "\n",
        "1. *Reduced overfitting*: By averaging across multiple splits, you reduce the impact of overfitting to a single split, which can lead to overly optimistic estimates of test accuracy.\n",
        "2. *Better representation*: Averaging across multiple splits provides a more comprehensive representation of the model's performance on unseen data, as each split is an independent evaluation.\n",
        "3. *Improved generalization*: By evaluating the model on multiple splits, you can assess its ability to generalize to new, unseen data, which is a key aspect of test accuracy.\n",
        "\n",
        "Studies have shown that cross-validation and bootstrap sampling can provide a more accurate estimate of test accuracy compared to a single split. This is because:\n",
        "\n",
        "1. *Reduced variance*: Averaging across multiple splits reduces the variance of the estimate, providing a more stable and reliable estimate of test accuracy.\n",
        "2. *Increased precision*: By averaging across multiple splits, you can increase the precision of the estimate, providing a more accurate estimate of test accuracy.\n",
        "\n",
        "However, it's important to note that:\n",
        "\n",
        "1. *No guarantee*: Averaging across multiple splits does not guarantee a perfect estimate of test accuracy.\n",
        "2. *Dependence on data*: The quality of the estimate still depends on the quality of the data and the model's ability to generalize.\n",
        "\n",
        "By using techniques like cross-validation and bootstrap sampling, you can increase the confidence in your estimate of test accuracy and make more informed decisions about your model's performance.\n",
        "\n",
        "Answer 3:\n",
        "       The number of iterations (or splits) in cross-validation or bootstrap sampling can impact the estimate of test accuracy. Here's what happens:\n",
        "\n",
        "*Higher iterations:*\n",
        "\n",
        "1. *Improved precision*: More iterations generally lead to a more precise estimate of test accuracy, as the average is calculated over a larger number of independent evaluations.\n",
        "2. *Reduced variance*: Higher iterations reduce the variance of the estimate, making it more stable and reliable.\n",
        "3. *Better convergence*: With more iterations, the estimate is more likely to converge to the true test accuracy.\n",
        "\n",
        "*However:*\n",
        "\n",
        "1. *Diminishing returns*: Beyond a certain point (e.g., 10-20 iterations), the gains in precision and reduced variance may become marginal.\n",
        "2. *Increased computation*: Higher iterations require more computational resources and time, which may be a limiting factor.\n",
        "3. *Overfitting to the validation set*: In some cases, too many iterations can lead to overfitting to the validation set, rather than the test set.\n",
        "\n",
        "*Optimal number of iterations:*\n",
        "\n",
        "1. *Depends on data size*: For smaller datasets, fewer iterations (5-10) may be sufficient, while larger datasets may benefit from more iterations (20-50).\n",
        "2. *Depends on model complexity*: More complex models may require more iterations to converge.\n",
        "3. *Depends on desired precision*: If high precision is required, more iterations may be necessary.\n",
        "\n",
        "In summary, higher\n",
        "\n",
        "\n",
        "Answer 4:\n",
        "         While increasing iterations can help improve the estimate of test accuracy, it may not entirely compensate for a very small train or validation dataset. Here's why:\n",
        "\n",
        "_Small train dataset:_\n",
        "\n",
        "1. _Insufficient learning_: A small train dataset may not provide enough information for the model to learn effective patterns.\n",
        "2. _Overfitting_: Increasing iterations may exacerbate overfitting to the small train dataset.\n",
        "\n",
        "_Small validation dataset:_\n",
        "\n",
        "1. _Unreliable estimate_: A small validation dataset may not provide a reliable estimate of test accuracy, even with more iterations.\n",
        "2. _High variance_: Small validation datasets can lead to high variance in the estimate, which may not be fully mitigated by increasing iterations.\n",
        "\n",
        "However, increasing iterations can still help in the following ways:\n",
        "\n",
        "1. _Reducing variance_: More iterations can reduce the variance of the estimate, making it more stable.\n",
        "2. _Improving precision_: Increased iterations can provide a more precise estimate of test accuracy, but this may be limited by the small dataset size.\n",
        "\n",
        "To deal with very small datasets, consider:\n",
        "\n",
        "1. _Data augmentation_: Artificially increase the dataset size by generating new samples through transformations or simulations.\n",
        "2. _Transfer learning_: Leverage pre-trained models and fine-tune them on your small dataset.\n",
        "3. _Active learning_: Selectively sample new data points to add to the dataset, focusing on the most informative or uncertain points.\n",
        "4. _Ensemble methods_: Combine multiple models trained on different subsets of the data to improve overall performance.\n",
        "\n",
        "Remember, increasing iterations can help, but it's essential to address the underlying limitations of small datasets."
      ],
      "metadata": {
        "id": "bywym3L7mIQP"
      }
    },
    {
      "cell_type": "markdown",
      "metadata": {
        "id": "z-SBxy1qevgJ"
      },
      "source": [
        "> Exercise: How does the accuracy of the 3 nearest neighbour classifier change with the number of splits? How is it affected by the split size? Compare the results with the 1 nearest neighbour classifier."
      ]
    }
  ],
  "metadata": {
    "colab": {
      "provenance": [],
      "include_colab_link": true
    },
    "kernelspec": {
      "display_name": "Python 3",
      "name": "python3"
    },
    "language_info": {
      "codemirror_mode": {
        "name": "ipython",
        "version": 3
      },
      "file_extension": ".py",
      "mimetype": "text/x-python",
      "name": "python",
      "nbconvert_exporter": "python",
      "pygments_lexer": "ipython3",
      "version": "3.10.10"
    }
  },
  "nbformat": 4,
  "nbformat_minor": 0
}